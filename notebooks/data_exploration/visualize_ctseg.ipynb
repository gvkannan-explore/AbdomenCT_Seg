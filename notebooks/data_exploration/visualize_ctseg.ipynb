{
 "cells": [
  {
   "cell_type": "code",
   "execution_count": 1,
   "metadata": {},
   "outputs": [],
   "source": [
    "from pathlib import PosixPath, Path\n",
    "import SimpleITK as sitk\n",
    "import itkwidgets\n",
    "import nibabel as nib\n",
    "from dotenv import load_dotenv\n",
    "import matplotlib.pyplot as plt\n",
    "import os\n",
    "import numpy as np\n",
    "import json\n",
    "from typing import List"
   ]
  },
  {
   "cell_type": "code",
   "execution_count": 2,
   "metadata": {},
   "outputs": [],
   "source": [
    "flag_env = load_dotenv(\n",
    "    os.path.join(\"/\".join(os.getcwd().split(\"/\")[:-2]), \"envs/abdomenct_seg.env\")\n",
    ")\n",
    "if flag_env:\n",
    "    root_dir = Path(os.environ.get(\"ROOT_DIR\"))\n",
    "else:\n",
    "    raise Exception(f\"Failed to load the environment file!\")"
   ]
  },
  {
   "cell_type": "code",
   "execution_count": 3,
   "metadata": {},
   "outputs": [],
   "source": [
    "ct_img = sitk.ReadImage(root_dir / \"imagesTr\" / \"FLARE22_Tr_0001_0000.nii.gz\")\n",
    "seg_img = sitk.ReadImage(root_dir / \"labelsTr\" / \"FLARE22_Tr_0001.nii.gz\")"
   ]
  },
  {
   "cell_type": "markdown",
   "metadata": {},
   "source": [
    "### Reference:\n",
    "- https://github.com/SimpleITK/SimpleITK/issues/561\n",
    "- https://github.com/InsightSoftwareConsortium/SimpleITK-Notebooks/blob/master/Python/21_Transforms_and_Resampling.ipynb\n",
    "- https://gist.github.com/mrajchl/ccbd5ed12eb68e0c1afc5da116af614a"
   ]
  },
  {
   "cell_type": "code",
   "execution_count": 4,
   "metadata": {},
   "outputs": [],
   "source": [
    "out_spacing = [1.5, 1.5, 1.5]"
   ]
  },
  {
   "cell_type": "code",
   "execution_count": 9,
   "metadata": {},
   "outputs": [],
   "source": [
    "def resample_sitk(\n",
    "    img: sitk.Image, target_resolution: List = [1.5, 1.5, 1.5], is_label: bool = False\n",
    "):\n",
    "    \"\"\"\n",
    "    Given a sitk.image, resample to the given out_spacing.\n",
    "    Output Spacing based on monai's ct bundle recommendatin. This  may vary based on model usage and requirements. Say a vessel with 0.5 resolution is expected!\n",
    "\n",
    "    \"\"\"\n",
    "\n",
    "    original_spacing = img.GetSpacing()\n",
    "    original_size = img.GetSize()\n",
    "    out_size = [\n",
    "        int(np.round(original_size[0] * (original_spacing[0] / out_spacing[0]))),\n",
    "        int(np.round(original_size[1] * (original_spacing[1] / out_spacing[1]))),\n",
    "        int(np.round(original_size[2] * (original_spacing[2] / out_spacing[2]))),\n",
    "    ]\n",
    "\n",
    "    resampler = sitk.ResampleImageFilter()\n",
    "    resampler.SetOutputSpacing(target_resolution)\n",
    "    resampler.SetSize(out_size)\n",
    "    resampler.SetOutputDirection(img.GetDirection())\n",
    "    resampler.SetOutputOrigin(img.GetOrigin())\n",
    "    resampler.SetTransform(sitk.Transform())\n",
    "    resampler.SetDefaultPixelValue(img.GetPixelIDValue())\n",
    "\n",
    "    if is_label:\n",
    "        resampler.SetInterpolator(sitk.sitkLabelLinear)\n",
    "    else:\n",
    "        resampler.SetInterpolator(sitk.sitkLinear)\n",
    "    ##\n",
    "    return resampler.Execute(img)"
   ]
  },
  {
   "cell_type": "code",
   "execution_count": 10,
   "metadata": {},
   "outputs": [],
   "source": [
    "ct_imgV2 = resample_sitk(img=ct_img, target_resolution=[1.5, 1.5, 2.0], is_label=False)\n",
    "\n",
    "seg_imgV2 = resample_sitk(\n",
    "    img=seg_img, target_resolution=[1.5, 1.5, 2.0], is_label=False\n",
    ")"
   ]
  },
  {
   "cell_type": "code",
   "execution_count": 11,
   "metadata": {},
   "outputs": [
    {
     "data": {
      "application/vnd.jupyter.widget-view+json": {
       "model_id": "80c53e1d2fc64fe49bc58e638d558a20",
       "version_major": 2,
       "version_minor": 0
      },
      "text/plain": [
       "Viewer(geometries=[], gradient_opacity=0.22, interpolation=False, point_sets=[], rendered_image=<itk.itkImageP…"
      ]
     },
     "metadata": {},
     "output_type": "display_data"
    }
   ],
   "source": [
    "itkwidgets.view(image=ct_img, label_image=seg_img)"
   ]
  },
  {
   "cell_type": "code",
   "execution_count": 12,
   "metadata": {},
   "outputs": [
    {
     "data": {
      "application/vnd.jupyter.widget-view+json": {
       "model_id": "d7bf839acba7486b8f0525ad7340cf51",
       "version_major": 2,
       "version_minor": 0
      },
      "text/plain": [
       "Viewer(geometries=[], gradient_opacity=0.22, interpolation=False, point_sets=[], rendered_image=<itk.itkImageP…"
      ]
     },
     "metadata": {},
     "output_type": "display_data"
    }
   ],
   "source": [
    "itkwidgets.view(image=ct_imgV2, label_image=seg_imgV2)"
   ]
  },
  {
   "cell_type": "markdown",
   "metadata": {},
   "source": [
    "## Observation:\n",
    "* Resampling the labelmap add a lot of noise at the edge. May be wise to dilate by 1. This is important to reduce the noise in the labels!\n",
    "* Playing with the window-levels and cross-referencing radiopedia for window level, the intensity range [-50, 450] captures all the regions of interest."
   ]
  },
  {
   "cell_type": "markdown",
   "metadata": {},
   "source": []
  }
 ],
 "metadata": {
  "kernelspec": {
   "display_name": "abdomenct_seg",
   "language": "python",
   "name": "python3"
  },
  "language_info": {
   "codemirror_mode": {
    "name": "ipython",
    "version": 3
   },
   "file_extension": ".py",
   "mimetype": "text/x-python",
   "name": "python",
   "nbconvert_exporter": "python",
   "pygments_lexer": "ipython3",
   "version": "3.9.6"
  }
 },
 "nbformat": 4,
 "nbformat_minor": 2
}
