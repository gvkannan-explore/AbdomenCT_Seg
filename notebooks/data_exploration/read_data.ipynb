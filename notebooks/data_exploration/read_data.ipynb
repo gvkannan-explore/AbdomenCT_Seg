{
 "cells": [
  {
   "cell_type": "code",
   "execution_count": 14,
   "metadata": {},
   "outputs": [],
   "source": [
    "from pathlib import PosixPath, Path\n",
    "import SimpleITK as sitk\n",
    "import itkwidgets\n",
    "import nibabel as nib\n",
    "from dotenv import load_dotenv\n",
    "import matplotlib.pyplot as plt\n",
    "import os\n",
    "import numpy as np\n",
    "import json"
   ]
  },
  {
   "cell_type": "code",
   "execution_count": 2,
   "metadata": {},
   "outputs": [],
   "source": [
    "flag_env = load_dotenv(\n",
    "    \"/Users/vigneshkannan/Documents/Projects/AbdomenCT_Seg/envs/abdomenct_seg.env\"\n",
    ")"
   ]
  },
  {
   "cell_type": "code",
   "execution_count": 3,
   "metadata": {},
   "outputs": [],
   "source": [
    "if flag_env:\n",
    "    root_dir = Path(os.environ.get(\"ROOT_DIR\"))\n",
    "else:\n",
    "    raise Exception(f\"Failed to load the environment file!\")"
   ]
  },
  {
   "cell_type": "code",
   "execution_count": 15,
   "metadata": {},
   "outputs": [],
   "source": [
    "with open(root_dir / \"dataset.json\", \"r\") as fp:\n",
    "    data_dict = json.load(fp)"
   ]
  },
  {
   "cell_type": "code",
   "execution_count": 28,
   "metadata": {},
   "outputs": [],
   "source": [
    "ct_img = sitk.ReadImage(root_dir / \"imagesTr\" / \"FLARE22_Tr_0001_0000.nii.gz\")\n",
    "seg_img = sitk.ReadImage(root_dir / \"labelsTr\" / \"FLARE22_Tr_0001.nii.gz\")"
   ]
  },
  {
   "cell_type": "code",
   "execution_count": 33,
   "metadata": {},
   "outputs": [
    {
     "data": {
      "text/plain": [
       "((512, 512, 110), (512, 512, 110))"
      ]
     },
     "execution_count": 33,
     "metadata": {},
     "output_type": "execute_result"
    }
   ],
   "source": [
    "ct_img.GetSize(), seg_img.GetSize()"
   ]
  },
  {
   "cell_type": "code",
   "execution_count": 30,
   "metadata": {},
   "outputs": [
    {
     "data": {
      "text/plain": [
       "{'channel_names': {'0': 'CT'},\n",
       " 'labels': {'background': 0,\n",
       "  'liver': 1,\n",
       "  'right kidney': 2,\n",
       "  'spleen': 3,\n",
       "  'pancreas': 4,\n",
       "  'aorta': 5,\n",
       "  'inferior vena cava': 6,\n",
       "  'right adrenal gland': 7,\n",
       "  'left adrenal gland': 8,\n",
       "  'gallbladder': 9,\n",
       "  'esophagus': 10,\n",
       "  'stomach': 11,\n",
       "  'duodenum': 12,\n",
       "  'left kidney': 13},\n",
       " 'numTraining': 50,\n",
       " 'file_ending': '.nii.gz',\n",
       " 'name': 'Dataset701_AbdomenCT',\n",
       " 'description': 'This dataset was from MICCAI FLARE 2022 Challenge. The training set contained 50 CT scans that were from the MSD Pancreas dataset and the annotations were from AbdomenCT-1K. Another 50 validation cases were from TCIA and the annotations were provided by the challenge organizers.'}"
      ]
     },
     "execution_count": 30,
     "metadata": {},
     "output_type": "execute_result"
    }
   ],
   "source": [
    "data_dict"
   ]
  },
  {
   "cell_type": "markdown",
   "metadata": {},
   "source": [
    "### Observation:\n",
    "1. 50 CT volumes for training and 50 CT volumes for testing. (Additional 2000 unlabeled caes available but that's beyond the scope of this project)\n",
    "2. 13 labels available. \n",
    "3. The Abdomen CT window level being considered are listed below: (Taken from https://radiopaedia.org/articles/windowing-ct?lang=us)\n",
    "    - Soft-tissues: W:400, L:50\n",
    "    - Liver: W150; L30\n",
    "\n",
    "## Next Steps:\n",
    "1. Resample and normalize the volume that is suitable for model training in order to save time during training.\n",
    "2. Divide the training set into training and finetuning.\n",
    "3. Using either total_segmentator or UMamba as a benchmark for the testing cases."
   ]
  },
  {
   "cell_type": "code",
   "execution_count": 32,
   "metadata": {},
   "outputs": [
    {
     "data": {
      "application/vnd.jupyter.widget-view+json": {
       "model_id": "e3a0570503504723ad144db8d4068644",
       "version_major": 2,
       "version_minor": 0
      },
      "text/plain": [
       "Viewer(geometries=[], gradient_opacity=0.22, point_sets=[], rendered_image=<itk.itkImagePython.itkImageUS3; pr…"
      ]
     },
     "metadata": {},
     "output_type": "display_data"
    }
   ],
   "source": [
    "itkwidgets.view(seg_img)"
   ]
  },
  {
   "cell_type": "code",
   "execution_count": 26,
   "metadata": {},
   "outputs": [
    {
     "data": {
      "application/vnd.jupyter.widget-view+json": {
       "model_id": "7647136f79b54697a48961a61b786ceb",
       "version_major": 2,
       "version_minor": 0
      },
      "text/plain": [
       "Viewer(geometries=[], gradient_opacity=0.22, point_sets=[], rendered_image=<itk.itkImagePython.itkImageF3; pro…"
      ]
     },
     "metadata": {},
     "output_type": "display_data"
    }
   ],
   "source": [
    "itkwidgets.view(ct_img)"
   ]
  },
  {
   "cell_type": "code",
   "execution_count": 24,
   "metadata": {},
   "outputs": [
    {
     "data": {
      "text/plain": [
       "(512, 512, 110)"
      ]
     },
     "execution_count": 24,
     "metadata": {},
     "output_type": "execute_result"
    }
   ],
   "source": [
    "ct_img.GetSize()"
   ]
  },
  {
   "cell_type": "code",
   "execution_count": 23,
   "metadata": {},
   "outputs": [
    {
     "data": {
      "text/plain": [
       "(0.6445310115814209, 0.6445310115814209, 2.5)"
      ]
     },
     "execution_count": 23,
     "metadata": {},
     "output_type": "execute_result"
    }
   ],
   "source": [
    "ct_img.GetSpacing()"
   ]
  },
  {
   "cell_type": "code",
   "execution_count": 4,
   "metadata": {},
   "outputs": [
    {
     "data": {
      "text/plain": [
       "PosixPath('/Users/vigneshkannan/Downloads/MedAI_Datasets/AbdomenCT/main/imagesTr/FLARE22_Tr_0001_0000.nii.gz')"
      ]
     },
     "execution_count": 4,
     "metadata": {},
     "output_type": "execute_result"
    }
   ],
   "source": [
    "(root_dir / \"imagesTr\" / \"FLARE22_Tr_0001_0000.nii.gz\")"
   ]
  },
  {
   "cell_type": "code",
   "execution_count": 6,
   "metadata": {},
   "outputs": [],
   "source": [
    "## Visualizing a random image:\n",
    "\n",
    "# Change the path to your path\n",
    "sample_path = str(root_dir / \"imagesTr\" / \"FLARE22_Tr_0001_0000.nii.gz\")\n",
    "ct_nii = nib.load(sample_path)\n",
    "# nii_data = my_img.get_fdata()\n",
    "# nii_aff  = my_img.affine\n",
    "# nii_hdr  = my_img.header"
   ]
  },
  {
   "cell_type": "code",
   "execution_count": 9,
   "metadata": {},
   "outputs": [],
   "source": [
    "ct_vol = ct_nii.get_fdata()\n",
    "ct_aff = ct_nii.affine\n",
    "ct_hdr = ct_nii.header"
   ]
  },
  {
   "cell_type": "code",
   "execution_count": 20,
   "metadata": {},
   "outputs": [
    {
     "ename": "AttributeError",
     "evalue": "'Image' object has no attribute 'GetDataSpacing'",
     "output_type": "error",
     "traceback": [
      "\u001b[0;31m---------------------------------------------------------------------------\u001b[0m",
      "\u001b[0;31mAttributeError\u001b[0m                            Traceback (most recent call last)",
      "Cell \u001b[0;32mIn[20], line 1\u001b[0m\n\u001b[0;32m----> 1\u001b[0m \u001b[43mct_img\u001b[49m\u001b[38;5;241;43m.\u001b[39;49m\u001b[43mGetDataSpacing\u001b[49m()\n",
      "\u001b[0;31mAttributeError\u001b[0m: 'Image' object has no attribute 'GetDataSpacing'"
     ]
    }
   ],
   "source": [
    "ct_img.GetDataSpacing()"
   ]
  },
  {
   "cell_type": "code",
   "execution_count": 10,
   "metadata": {},
   "outputs": [
    {
     "data": {
      "text/plain": [
       "(array([[   0.64453101,    0.        ,    0.        , -329.35534668],\n",
       "        [   0.        ,    0.64453101,    0.        , -329.35534668],\n",
       "        [   0.        ,    0.        ,    2.5       ,    0.        ],\n",
       "        [   0.        ,    0.        ,    0.        ,    1.        ]]),\n",
       " <nibabel.nifti1.Nifti1Header at 0x10e4f0520>)"
      ]
     },
     "execution_count": 10,
     "metadata": {},
     "output_type": "execute_result"
    }
   ],
   "source": [
    "ct_aff, ct_hdr"
   ]
  },
  {
   "cell_type": "code",
   "execution_count": 13,
   "metadata": {},
   "outputs": [
    {
     "data": {
      "text/plain": [
       "['sizeof_hdr',\n",
       " 'data_type',\n",
       " 'db_name',\n",
       " 'extents',\n",
       " 'session_error',\n",
       " 'regular',\n",
       " 'dim_info',\n",
       " 'dim',\n",
       " 'intent_p1',\n",
       " 'intent_p2',\n",
       " 'intent_p3',\n",
       " 'intent_code',\n",
       " 'datatype',\n",
       " 'bitpix',\n",
       " 'slice_start',\n",
       " 'pixdim',\n",
       " 'vox_offset',\n",
       " 'scl_slope',\n",
       " 'scl_inter',\n",
       " 'slice_end',\n",
       " 'slice_code',\n",
       " 'xyzt_units',\n",
       " 'cal_max',\n",
       " 'cal_min',\n",
       " 'slice_duration',\n",
       " 'toffset',\n",
       " 'glmax',\n",
       " 'glmin',\n",
       " 'descrip',\n",
       " 'aux_file',\n",
       " 'qform_code',\n",
       " 'sform_code',\n",
       " 'quatern_b',\n",
       " 'quatern_c',\n",
       " 'quatern_d',\n",
       " 'qoffset_x',\n",
       " 'qoffset_y',\n",
       " 'qoffset_z',\n",
       " 'srow_x',\n",
       " 'srow_y',\n",
       " 'srow_z',\n",
       " 'intent_name',\n",
       " 'magic']"
      ]
     },
     "execution_count": 13,
     "metadata": {},
     "output_type": "execute_result"
    }
   ],
   "source": [
    "ct_hdr.keys()"
   ]
  },
  {
   "cell_type": "code",
   "execution_count": null,
   "metadata": {},
   "outputs": [],
   "source": []
  }
 ],
 "metadata": {
  "kernelspec": {
   "display_name": "abdomenct_seg",
   "language": "python",
   "name": "python3"
  },
  "language_info": {
   "codemirror_mode": {
    "name": "ipython",
    "version": 3
   },
   "file_extension": ".py",
   "mimetype": "text/x-python",
   "name": "python",
   "nbconvert_exporter": "python",
   "pygments_lexer": "ipython3",
   "version": "3.9.6"
  }
 },
 "nbformat": 4,
 "nbformat_minor": 2
}
