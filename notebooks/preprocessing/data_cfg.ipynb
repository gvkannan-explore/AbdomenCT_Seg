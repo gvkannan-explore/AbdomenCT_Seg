{
 "cells": [
  {
   "cell_type": "markdown",
   "metadata": {},
   "source": [
    "### Objective: Create dataclass for data-related configuration"
   ]
  },
  {
   "cell_type": "code",
   "execution_count": 14,
   "metadata": {},
   "outputs": [],
   "source": [
    "from dataclasses import dataclass, asdict\n",
    "from typing import List, Tuple, Dict, Union"
   ]
  },
  {
   "cell_type": "code",
   "execution_count": 1,
   "metadata": {},
   "outputs": [],
   "source": [
    "data_dict = {\n",
    "    \"image_key\": \"image\",\n",
    "    \"label_key\": \"label\",\n",
    "    \"original_max\": -50,\n",
    "    \"original_min\": 450,\n",
    "    \"scaled_max\": 1.0,\n",
    "    \"scaled_min\": 0.0,\n",
    "    \"orientation\": \"RAS\",\n",
    "    \"spacing\": (1.5, 1.5, 1.5),\n",
    "    \"img_resampler\": \"bilinear\",\n",
    "    \"label_resampler\": \"nearest\",\n",
    "}"
   ]
  },
  {
   "cell_type": "code",
   "execution_count": 12,
   "metadata": {},
   "outputs": [],
   "source": [
    "@dataclass\n",
    "class DataConfig:\n",
    "    image_key: str = \"image\"\n",
    "    label_key: str = \"label\"\n",
    "    original_max: int = -50\n",
    "    original_min: int = 450\n",
    "    scaled_max: float = 1.0\n",
    "    scaled_min: float = 0.0\n",
    "    orientation: float = \"RAS\"\n",
    "    spacing: Union[Tuple, List] = (1.5, 1.5, 1.5)\n",
    "    img_resampler: str = \"bilinear\"\n",
    "    label_resampler: str = \"nearest\"\n",
    "\n",
    "    def as_dict(self):\n",
    "        return {k: str(v) for k, v in asdict(self).items()}"
   ]
  },
  {
   "cell_type": "code",
   "execution_count": 13,
   "metadata": {},
   "outputs": [
    {
     "data": {
      "text/plain": [
       "{'image_key': 'image',\n",
       " 'label_key': 'label',\n",
       " 'original_max': '-50',\n",
       " 'original_min': '450',\n",
       " 'scaled_max': '1.0',\n",
       " 'scaled_min': '0.0',\n",
       " 'orientation': 'RAS',\n",
       " 'spacing': '(1.5, 1.5, 1.5)',\n",
       " 'img_resampler': 'bilinear',\n",
       " 'label_resampler': 'nearest'}"
      ]
     },
     "execution_count": 13,
     "metadata": {},
     "output_type": "execute_result"
    }
   ],
   "source": [
    "data_cfg = DataConfig()\n",
    "data_cfg.as_dict()"
   ]
  },
  {
   "cell_type": "code",
   "execution_count": null,
   "metadata": {},
   "outputs": [],
   "source": []
  }
 ],
 "metadata": {
  "kernelspec": {
   "display_name": "abdomenct_seg",
   "language": "python",
   "name": "python3"
  },
  "language_info": {
   "codemirror_mode": {
    "name": "ipython",
    "version": 3
   },
   "file_extension": ".py",
   "mimetype": "text/x-python",
   "name": "python",
   "nbconvert_exporter": "python",
   "pygments_lexer": "ipython3",
   "version": "3.9.6"
  }
 },
 "nbformat": 4,
 "nbformat_minor": 2
}
