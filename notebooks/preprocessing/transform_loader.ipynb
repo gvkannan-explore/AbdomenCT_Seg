{
 "cells": [
  {
   "cell_type": "markdown",
   "metadata": {},
   "source": [
    "## Objective: Transform Pipeline for model training\n",
    "* VENV: abdomenct_seg"
   ]
  },
  {
   "cell_type": "code",
   "execution_count": 25,
   "metadata": {},
   "outputs": [],
   "source": [
    "from pathlib import PosixPath, Path\n",
    "import SimpleITK as sitk\n",
    "import itkwidgets\n",
    "import nibabel as nib\n",
    "from dotenv import load_dotenv\n",
    "import matplotlib.pyplot as plt\n",
    "import os\n",
    "import numpy as np ## Has to be < 2.0 for monai to not break\n",
    "import json\n",
    "from typing import List\n",
    "from monai import transforms as T"
   ]
  },
  {
   "cell_type": "code",
   "execution_count": 26,
   "metadata": {},
   "outputs": [],
   "source": [
    "flag_env = load_dotenv( os.path.join(\"/\".join(os.getcwd().split(\"/\")[:-2]),  \"envs/abdomenct_seg.env\"))\n",
    "if flag_env:\n",
    "    root_dir = Path(os.environ.get(\"ROOT_DIR\"))\n",
    "else:\n",
    "    raise Exception(f\"Failed to load the environment file!\")"
   ]
  },
  {
   "cell_type": "code",
   "execution_count": 28,
   "metadata": {},
   "outputs": [],
   "source": [
    "save_dir = Path(os.environ.get(\"PROCESSED_DIR\"))"
   ]
  },
  {
   "cell_type": "code",
   "execution_count": 29,
   "metadata": {},
   "outputs": [],
   "source": [
    "img_prefix = \"FLARE22\"\n",
    "img_type = \"Tr\"\n",
    "img_id = \"0001\"\n",
    "tmp_dict = {\n",
    "    \"image\": str(root_dir / \"imagesTr\" / f\"{img_prefix}_{img_type}_{img_id}_0000.nii.gz\"),\n",
    "    \"label\": str(root_dir / \"labelsTr\" / f\"{img_prefix}_{img_type}_{img_id}.nii.gz\"),\n",
    "}"
   ]
  },
  {
   "cell_type": "code",
   "execution_count": 30,
   "metadata": {},
   "outputs": [],
   "source": [
    "hyperparam_dict = {\n",
    "    \"data\": {\n",
    "        \"original_max\": -50,\n",
    "        \"original_min\": 450,\n",
    "        \"scaled_max\": 1.0,\n",
    "        \"scaled_min\": 0.0,\n",
    "    }\n",
    "}"
   ]
  },
  {
   "cell_type": "code",
   "execution_count": 31,
   "metadata": {},
   "outputs": [
    {
     "name": "stderr",
     "output_type": "stream",
     "text": [
      "monai.transforms.croppad.dictionary CropForegroundd.__init__:allow_smaller: Current default value of argument `allow_smaller=True` has been deprecated since version 1.2. It will be changed to `allow_smaller=False` in version 1.5.\n"
     ]
    }
   ],
   "source": [
    "loader_transform = T.Compose([\n",
    "    T.LoadImaged(\n",
    "        keys=['image', 'label'],\n",
    "        ensure_channel_first=True, ## Necessary for the other transforms\n",
    "    ),\n",
    "    T.ScaleIntensityRanged(\n",
    "        keys=['image'],\n",
    "        a_min=hyperparam_dict['data']['original_max'],\n",
    "        a_max=hyperparam_dict['data']['original_min'],\n",
    "        b_min=hyperparam_dict['data']['scaled_min'],\n",
    "        b_max=hyperparam_dict['data']['scaled_max'],\n",
    "        clip=True,\n",
    "    ),\n",
    "    T.CropForegroundd(keys=[\"image\", \"label\"], source_key=\"image\"),\n",
    "    T.Orientationd(keys=[\"image\", \"label\"], axcodes=\"RAS\"),\n",
    "    T.Spacingd(\n",
    "        keys=[\"image\", \"label\"],\n",
    "        pixdim=(1.5, 1.5, 1.5),\n",
    "        mode=(\"bilinear\", \"nearest\"),\n",
    "    ),\n",
    "])"
   ]
  },
  {
   "cell_type": "code",
   "execution_count": 32,
   "metadata": {},
   "outputs": [],
   "source": [
    "out_dict = loader_transform(tmp_dict)"
   ]
  },
  {
   "cell_type": "code",
   "execution_count": 34,
   "metadata": {},
   "outputs": [],
   "source": [
    "processed_img = out_dict['image'].numpy()\n",
    "processed_seg = out_dict['label'].numpy()"
   ]
  },
  {
   "cell_type": "code",
   "execution_count": null,
   "metadata": {},
   "outputs": [],
   "source": [
    "flag_env = load_dotenv( os.path.join(\"/\".join(os.getcwd().split(\"/\")[:-2]),  \"envs/abdomenct_seg.env\"))\n",
    "if flag_env:\n",
    "    root_dir = Path(os.environ.get(\"ROOT_DIR\"))\n",
    "else:\n",
    "    raise Exception(f\"Failed to load the environment file!\")"
   ]
  },
  {
   "cell_type": "code",
   "execution_count": 40,
   "metadata": {},
   "outputs": [],
   "source": [
    "## Takes approximately 30-40 MiB. So the entire dataset is about ~3 GiB\n",
    "np.savez(\n",
    "    file=save_dir / \"train\" / f\"{img_prefix}_preprocessed_img_{img_id}.npz\", \n",
    "    arr=processed_img)\n",
    "np.savez(\n",
    "    file=save_dir / \"train\" / f\"{img_prefix}_preprocessed_seg_{img_id}.npz\", \n",
    "    arr=processed_img)"
   ]
  },
  {
   "cell_type": "markdown",
   "metadata": {},
   "source": [
    "### Visualize Processed Volume & Seg:"
   ]
  },
  {
   "cell_type": "code",
   "execution_count": 20,
   "metadata": {},
   "outputs": [],
   "source": [
    "itk_img = sitk.GetImageFromArray(out_dict['image'].squeeze().numpy())\n",
    "itk_seg = sitk.GetImageFromArray(out_dict['label'].squeeze().numpy())"
   ]
  },
  {
   "cell_type": "code",
   "execution_count": 21,
   "metadata": {},
   "outputs": [
    {
     "data": {
      "application/vnd.jupyter.widget-view+json": {
       "model_id": "b855e7e474b84138894d6dcd47fde7fe",
       "version_major": 2,
       "version_minor": 0
      },
      "text/plain": [
       "Viewer(interpolation=False, rendered_image=<itk.itkImagePython.itkImageF3; proxy of <Swig Object of type 'itkI…"
      ]
     },
     "metadata": {},
     "output_type": "display_data"
    }
   ],
   "source": [
    "itkwidgets.Viewer(image=itk_img, label_image=itk_seg)"
   ]
  }
 ],
 "metadata": {
  "kernelspec": {
   "display_name": "abdomenct_seg",
   "language": "python",
   "name": "python3"
  },
  "language_info": {
   "codemirror_mode": {
    "name": "ipython",
    "version": 3
   },
   "file_extension": ".py",
   "mimetype": "text/x-python",
   "name": "python",
   "nbconvert_exporter": "python",
   "pygments_lexer": "ipython3",
   "version": "3.9.6"
  }
 },
 "nbformat": 4,
 "nbformat_minor": 2
}
